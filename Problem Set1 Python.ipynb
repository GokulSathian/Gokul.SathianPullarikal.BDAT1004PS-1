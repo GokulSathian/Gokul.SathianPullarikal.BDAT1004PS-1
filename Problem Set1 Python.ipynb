{
 "cells": [
  {
   "cell_type": "markdown",
   "id": "9a389626",
   "metadata": {},
   "source": [
    "## Question 6 Python\n",
    "\n",
    "#### Write a function pig() that takes a word (i.e., a string) as input and returns its pigLatin form. Your function should still work if the input word contains upper case\n",
    "characters. Your output should always be lower case however.\n",
    "I/P - pig('happy')\n",
    "O/P - 'appyhay'\n",
    "I/P - pig('Enter')\n",
    "O/P - 'enterway'"
   ]
  },
  {
   "cell_type": "code",
   "execution_count": 12,
   "id": "10d3a593",
   "metadata": {},
   "outputs": [],
   "source": [
    "def pig(x):\n",
    "    lower_input=x.lower() #lower() to convert the input to lower case\n",
    "    vowel =['a','e','i','o','u'] #list to store vowel\n",
    "    y=''\n",
    "    if lower_input[0] in vowel:  \n",
    "        y=lower_input+'way'\n",
    "        return y\n",
    "    else:\n",
    "        y=lower_input[1:]+lower_input[0]+'ay' \n",
    "        return y       "
   ]
  },
  {
   "cell_type": "code",
   "execution_count": 13,
   "id": "6bab1297",
   "metadata": {},
   "outputs": [
    {
     "data": {
      "text/plain": [
       "'appyhay'"
      ]
     },
     "execution_count": 13,
     "metadata": {},
     "output_type": "execute_result"
    }
   ],
   "source": [
    "pig('happy')"
   ]
  },
  {
   "cell_type": "code",
   "execution_count": 14,
   "id": "8d772c4f",
   "metadata": {},
   "outputs": [
    {
     "data": {
      "text/plain": [
       "'enterway'"
      ]
     },
     "execution_count": 14,
     "metadata": {},
     "output_type": "execute_result"
    }
   ],
   "source": [
    "pig('Enter')"
   ]
  },
  {
   "cell_type": "markdown",
   "id": "5092f560",
   "metadata": {},
   "source": [
    "## Question 7 Python\n",
    "Write a function bldcount() that reads the file with name name and reports (i.e.,\n",
    "prints) how many patients there are in each bloodtype"
   ]
  },
  {
   "cell_type": "code",
   "execution_count": 18,
   "id": "0bbdb603",
   "metadata": {},
   "outputs": [],
   "source": [
    "def bldcount(x):\n",
    "    f = open(x,\"r\")   #opening file in readmode\n",
    "    file_words=f.read().split() #reading the file and splitting w.r.t space\n",
    "    count_A,count_B,count_AB,count_O,count_OO=0,0,0,0,0\n",
    "    for i in file_words:\n",
    "        if i =='A':\n",
    "            count_A+=1\n",
    "        elif i=='B':\n",
    "            count_B+=1\n",
    "        elif i =='AB':\n",
    "            count_AB+=1\n",
    "        elif i=='O':\n",
    "            count_O+=1\n",
    "        else:\n",
    "            count_OO+=1\n",
    "    f.close()  #closing the file\n",
    "    print(\"There are\",count_A,\"patients of blood type A\")\n",
    "    print(\"There are\",count_B,\"patients of blood type B\")\n",
    "    print(\"There are\",count_AB,\"patients of blood type AB\")\n",
    "    print(\"There are\",count_O,\"patients of blood type O\")\n",
    "    print(\"There are\",count_OO,\"patients of blood type OO\")\n"
   ]
  },
  {
   "cell_type": "code",
   "execution_count": 19,
   "id": "9726ffe7",
   "metadata": {},
   "outputs": [
    {
     "name": "stdout",
     "output_type": "stream",
     "text": [
      "There are 15 patients of blood type A\n",
      "There are 1 patients of blood type B\n",
      "There are 13 patients of blood type AB\n",
      "There are 15 patients of blood type O\n",
      "There are 0 patients of blood type OO\n"
     ]
    }
   ],
   "source": [
    "bldcount(\"New Text Document.txt\")"
   ]
  },
  {
   "cell_type": "markdown",
   "id": "4ced540e",
   "metadata": {},
   "source": [
    "## Question 8 Python\n",
    "Write a function curconv() that takes as input:\n",
    "1. a currency represented using a string (e.g., 'JPY' for the Japanese Yen or\n",
    "'EUR' for the Euro)\n",
    "2. an amount\n",
    "and then converts and returns the amount in US dollars."
   ]
  },
  {
   "cell_type": "code",
   "execution_count": 32,
   "id": "d9bfb568",
   "metadata": {},
   "outputs": [],
   "source": [
    "def curconv(x,y):\n",
    "    f = open(\"curencies.txt\",\"r\") #open file in read mode\n",
    "    file_words=f.readlines()   #reading lines from the file\n",
    "    list1=[]\n",
    "    list2=[]\n",
    "    list3=[]\n",
    "    f.close()   #Closing the file\n",
    "    for i in file_words:\n",
    "        j=0\n",
    "        k=i.split('\\t')  #Spliting the string w.r.t ''\\t'\n",
    "        for j in range(len(k)-2):\n",
    "            list1.append(k[j])\n",
    "            list2.append(float(k[j+1]))\n",
    "            list3.append(k[j+2].strip())  #stripping unwanted character\n",
    "    h=list1.index(x)\n",
    "    return y*list2[h]"
   ]
  },
  {
   "cell_type": "code",
   "execution_count": 33,
   "id": "d8e53c0a",
   "metadata": {},
   "outputs": [
    {
     "data": {
      "text/plain": [
       "122.96544"
      ]
     },
     "execution_count": 33,
     "metadata": {},
     "output_type": "execute_result"
    }
   ],
   "source": [
    "curconv(\"EUR\",100)\n"
   ]
  },
  {
   "cell_type": "code",
   "execution_count": 34,
   "id": "2f31e544",
   "metadata": {},
   "outputs": [
    {
     "data": {
      "text/plain": [
       "1.241401"
      ]
     },
     "execution_count": 34,
     "metadata": {},
     "output_type": "execute_result"
    }
   ],
   "source": [
    "curconv(\"JPY\",100)"
   ]
  },
  {
   "cell_type": "markdown",
   "id": "fa4449b6",
   "metadata": {},
   "source": [
    "## Question 9 Python\n",
    "Identify what type of\n",
    "exception each will cause."
   ]
  },
  {
   "cell_type": "markdown",
   "id": "76e789c2",
   "metadata": {},
   "source": [
    "#### TypeError\n",
    "Trying to add incompatible variables, as in\n",
    "adding 6 + ‘a’ \n"
   ]
  },
  {
   "cell_type": "markdown",
   "id": "f6c5f944",
   "metadata": {},
   "source": [
    "#### NameError\n",
    "Using an undeclared variable, such as print(x)\n",
    "when x has not been defined  "
   ]
  },
  {
   "cell_type": "markdown",
   "id": "26071173",
   "metadata": {},
   "source": [
    "#### FileNotFoundErrror\n",
    "Trying to open a file that does not exist, such as\n",
    "mistyping the file name or looking in the wrong\n",
    "directory "
   ]
  },
  {
   "cell_type": "markdown",
   "id": "f82accba",
   "metadata": {},
   "source": [
    "#### IndexError\n",
    "Referring to the 12th item of a list that has only 10\n",
    "items  "
   ]
  },
  {
   "cell_type": "markdown",
   "id": "8aef5e49",
   "metadata": {},
   "source": [
    "#### ValueError\n",
    "Using a value that is out ofrange for a function’s\n",
    "input, such as calling math.sqrt(-1.0)"
   ]
  },
  {
   "cell_type": "markdown",
   "id": "e3d464fa",
   "metadata": {},
   "source": [
    "## Question 10 Python\n",
    "Assume that the string letters is already defined as\n",
    "'abcdefghijklmnopqrstuvwxyz'. Write a function called frequencies()\n",
    "that takes a string as its only parameter, and returns a list of integers, showing the\n",
    "number of times each character appears in the text. Your function may ignore any\n",
    "characters that are not in letters"
   ]
  },
  {
   "cell_type": "code",
   "execution_count": 35,
   "id": "ff0eab1d",
   "metadata": {},
   "outputs": [],
   "source": [
    "def frequencies(y):    \n",
    "    letters='abcdefghijklmnopqrstuvwxyz'\n",
    "    input_string=y\n",
    "    count1=0\n",
    "    count2=0\n",
    "    list1=[]\n",
    "    for i in range(len(letters)-1):\n",
    "        count3=0\n",
    "        for j in range(len(input_string)):\n",
    "            if letters[i]==input_string[j]:\n",
    "                count3+=1\n",
    "            else:\n",
    "                continue\n",
    "        list1.append(count3)\n",
    "    return list1       "
   ]
  },
  {
   "cell_type": "code",
   "execution_count": 36,
   "id": "1f6ebf51",
   "metadata": {},
   "outputs": [
    {
     "data": {
      "text/plain": [
       "[1, 1, 1, 3, 5, 1, 1, 2, 1, 0, 1, 0, 1, 2, 4, 0, 1, 2, 0, 2, 1, 0, 1, 1, 0]"
      ]
     },
     "execution_count": 36,
     "metadata": {},
     "output_type": "execute_result"
    }
   ],
   "source": [
    "frequencies(\"The quick red fox got bored and went home\")            "
   ]
  },
  {
   "cell_type": "code",
   "execution_count": 37,
   "id": "9a7146f3",
   "metadata": {},
   "outputs": [
    {
     "data": {
      "text/plain": [
       "[1, 0, 0, 0, 1, 0, 0, 0, 0, 0, 0, 1, 0, 0, 0, 2, 0, 0, 0, 0, 0, 0, 0, 0, 0]"
      ]
     },
     "execution_count": 37,
     "metadata": {},
     "output_type": "execute_result"
    }
   ],
   "source": [
    "frequencies(\"apple\")"
   ]
  }
 ],
 "metadata": {
  "kernelspec": {
   "display_name": "Python 3 (ipykernel)",
   "language": "python",
   "name": "python3"
  },
  "language_info": {
   "codemirror_mode": {
    "name": "ipython",
    "version": 3
   },
   "file_extension": ".py",
   "mimetype": "text/x-python",
   "name": "python",
   "nbconvert_exporter": "python",
   "pygments_lexer": "ipython3",
   "version": "3.9.12"
  }
 },
 "nbformat": 4,
 "nbformat_minor": 5
}
