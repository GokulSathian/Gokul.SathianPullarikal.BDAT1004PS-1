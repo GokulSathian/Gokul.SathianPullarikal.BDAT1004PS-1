{
 "cells": [
  {
   "cell_type": "markdown",
   "id": "a9fa3a7d",
   "metadata": {},
   "source": [
    "## Question 1 C#\n",
    "What data type is each of the following?<br>\n",
    "5                      -Integer <br>\n",
    "5.0                    -Double<br>\n",
    "5 > 1                  -Boolean<br>\n",
    "'5'                    -Char<br>\n",
    "5 * 2                  -Integer<br>\n",
    "'5' * 2                -String<br>\n",
    "'5' + '2'              -String<br>\n",
    "5 / 2                  -Integer<br>\n",
    "5 % 2                  -Integer<br>\n",
    "{5, 2, 1}              -List<br>\n",
    "5 == 3                 -Boolean<br>\n",
    "Pi (the number)        -Double<br>"
   ]
  },
  {
   "cell_type": "markdown",
   "id": "473b8f42",
   "metadata": {},
   "source": [
    "### Question 2 C#\n"
   ]
  },
  {
   "cell_type": "markdown",
   "id": "0ddeebb8",
   "metadata": {},
   "source": [
    "##### a. How many letters are there in 'Supercalifragilisticexpialidocious'?"
   ]
  },
  {
   "cell_type": "code",
   "execution_count": 74,
   "id": "270a1a8f",
   "metadata": {},
   "outputs": [
    {
     "name": "stdout",
     "output_type": "stream",
     "text": [
      "34\r\n"
     ]
    }
   ],
   "source": [
    "string letter1 = \"Supercalifragilisticexpialidocious\";\n",
    "int numberOfLetters = letter1.Length;\n",
    "Console.WriteLine(numberOfLetters)"
   ]
  },
  {
   "cell_type": "markdown",
   "id": "da5c6e98",
   "metadata": {},
   "source": [
    "##### b. Does 'Supercalifragilisticexpialidocious' contain 'ice' as a substring?"
   ]
  },
  {
   "cell_type": "code",
   "execution_count": 75,
   "id": "5711ebfb",
   "metadata": {},
   "outputs": [
    {
     "name": "stdout",
     "output_type": "stream",
     "text": [
      "True\r\n"
     ]
    }
   ],
   "source": [
    "string substr =\"ice\";\n",
    "Console.WriteLine(letter1.Contains(substr))"
   ]
  },
  {
   "cell_type": "markdown",
   "id": "63a17c8b",
   "metadata": {},
   "source": [
    "##### c.Which of the following words is the longest:\n",
    "Supercalifragilisticexpialidocious, Honorificabilitudinitatibus, or\n",
    "Bababadalgharaghtakamminarronnkonn?"
   ]
  },
  {
   "cell_type": "code",
   "execution_count": 83,
   "id": "ad0b2e3d",
   "metadata": {},
   "outputs": [
    {
     "name": "stdout",
     "output_type": "stream",
     "text": [
      "Supercalifragilisticexpialidocious\r\n"
     ]
    }
   ],
   "source": [
    "string letter2 = \"Honorificabilitudinitatibus\";\n",
    "string letter3 = \"Bababadalgharaghtakamminarronnkonn\";\n",
    "string[] letters ={letter1,letter2,letter3};\n",
    "Console.WriteLine(letters.Max());"
   ]
  },
  {
   "cell_type": "markdown",
   "id": "f33c12c3",
   "metadata": {},
   "source": [
    "##### d. Which composer comes first in the dictionary: 'Berlioz', 'Borodin', 'Brian',\n",
    "'Bartok', 'Bellini', 'Buxtehude', 'Bernstein'. Which one comes last?\n"
   ]
  },
  {
   "cell_type": "markdown",
   "id": "32246100",
   "metadata": {},
   "source": [
    "First in dictionary - Bartok\n",
    "Last in dictionary - Buxtehude"
   ]
  },
  {
   "cell_type": "markdown",
   "id": "73639a9c",
   "metadata": {},
   "source": [
    "### Question 3 C#\n",
    "Implement function triangleArea(a,b,c) that takes as input the lengths of the 3\n",
    "sides of a triangle and returns the area of the triangle. By Heron's formula, the area\n",
    "of a triangle with side lengths a, b, and c is s(s − a)(s −b)(s −c), where\n",
    "s = (a + b + c)/2."
   ]
  },
  {
   "cell_type": "code",
   "execution_count": 48,
   "id": "a3063dce",
   "metadata": {},
   "outputs": [],
   "source": [
    "//function triangleArea with float type\n",
    "public static float triangleArea(float a,float b,float c)\n",
    "{    \n",
    "    float s,area;\n",
    "    if(a<0 || b<0 || c<0 || (a+b<=c) || (a+c<=b)||(b+c<=a))//validating sides\n",
    "    {\n",
    "        Console.WriteLine(\"Invalid sides for a Triangle\");\n",
    "        System.Environment.Exit(0); //Exiting function\n",
    "    }\n",
    "    s = (a + b + c) / 2; //calculating s\n",
    "    area= (float)Math.Sqrt(s * (s - a) *(s - b) * (s - c)); //Calculating area using Heron's formula\n",
    "    return area;\n",
    "}\n"
   ]
  },
  {
   "cell_type": "code",
   "execution_count": 49,
   "id": "4028d7a8",
   "metadata": {},
   "outputs": [
    {
     "name": "stdout",
     "output_type": "stream",
     "text": [
      "0.4330127\r\n"
     ]
    }
   ],
   "source": [
    "float x;\n",
    "x=triangleArea(1,1,1);\n",
    "Console.WriteLine(x);"
   ]
  },
  {
   "cell_type": "markdown",
   "id": "f84a3549",
   "metadata": {},
   "source": [
    "### Question 4 C#\n",
    "Write a program in C# Sharp to separate odd and even integers in separate arrays. "
   ]
  },
  {
   "cell_type": "code",
   "execution_count": 50,
   "id": "802b54e3",
   "metadata": {},
   "outputs": [
    {
     "name": "stdout",
     "output_type": "stream",
     "text": [
      "Input the number of elements to be stored in the array:\n",
      "Input 0 elements in the array:\n",
      "The Even elements are :\n",
      "0 0 0 0 0 0 0 0 0 0 0 0 0 0 0 0 0 0 0 0 The Odd elements are :\n"
     ]
    }
   ],
   "source": [
    "//Arrays for storing user input,even number and odd number\n",
    "int[] user_input = new int[20];\n",
    "int[] even_num = new int[20];\n",
    "int[] odd_num = new int[20];\n",
    "//Initialization\n",
    "int i, x;\n",
    "int j=0,k=0;\n",
    "Console.WriteLine(\"Input the number of elements to be stored in the array:\");\n",
    "x = Convert.ToInt32(Console.ReadLine()); //Input from user\n",
    "Console.WriteLine(\"Input {0} elements in the array:\", x);\n",
    "for (i = 0; i < x; i++)  //storing user_input array\n",
    "{\n",
    "    Console.WriteLine(\"element - {0} : \", i);\n",
    "    user_input[i] = Convert.ToInt32(Console.ReadLine());\n",
    "}\n",
    "foreach (int y in user_input)   //Seperating even and odd\n",
    "{\n",
    "    if (y % 2 == 0)\n",
    "    {\n",
    "        even_num[j] = y;\n",
    "        j++;\n",
    "    }\n",
    "    else\n",
    "    {\n",
    "        odd_num[k] = y;\n",
    "        k++;\n",
    "    }\n",
    "}\n",
    "Console.WriteLine(\"The Even elements are :\"); // printing even numbers\n",
    "for (i = 0; i < j; i++)\n",
    "{\n",
    "    Console.Write(\"{0} \", even_num[i]);\n",
    "}\n",
    "Console.WriteLine(\"The Odd elements are :\");//printing odd numbers\n",
    "for (i = 0; i < k; i++)\n",
    "{\n",
    "    Console.Write(\"{0} \", odd_num[i]);\n",
    "}"
   ]
  },
  {
   "cell_type": "markdown",
   "id": "63f9f3a6",
   "metadata": {},
   "source": [
    "### Question 5 C#\n",
    "a. Write a function inside(x,y,x1,y1,x2,y2) that returns True or False\n",
    "dependingonwhetherthepoint(x,y)liesintherectanglewithlowerleft\n",
    "corner (x1,y1) and upper right corner (x2,y2)."
   ]
  },
  {
   "cell_type": "code",
   "execution_count": 51,
   "id": "cd6cafbc",
   "metadata": {},
   "outputs": [],
   "source": [
    "//function inside with type boolean\n",
    "public static bool inside(double x, double y, double x1, double y1, double x2, double y2)\n",
    "{\n",
    "    if (x > x1 && x < x2 && y > y1 && y < y2)// checking if x is smaller than x2 and greater than x1 similarly y \n",
    "    {\n",
    "        return true;\n",
    "    }\n",
    " \n",
    "    return false;\n",
    "}\n"
   ]
  },
  {
   "cell_type": "code",
   "execution_count": 54,
   "id": "ed90572f",
   "metadata": {},
   "outputs": [
    {
     "name": "stdout",
     "output_type": "stream",
     "text": [
      "True\r\n"
     ]
    }
   ],
   "source": [
    "bool z,v;\n",
    "z=inside(1,1,0,0,2,3);\n",
    "Console.WriteLine(z);"
   ]
  },
  {
   "cell_type": "code",
   "execution_count": 55,
   "id": "a4371af6",
   "metadata": {},
   "outputs": [
    {
     "name": "stdout",
     "output_type": "stream",
     "text": [
      "False\r\n"
     ]
    }
   ],
   "source": [
    "v = inside(-1,-1,0,0,2,3);\n",
    "Console.WriteLine(v);"
   ]
  },
  {
   "cell_type": "markdown",
   "id": "7ed46a0e",
   "metadata": {},
   "source": [
    "b.Use function inside()from part a. to write an expression that tests whether\n",
    "the point (1,1) lies in both of the following rectangles: one with lower left\n",
    "corner (0.3, 0.5) and upper right corner (1.1, 0.7) and the other with lower\n",
    "left corner (0.5, 0.2) and upper right corner (1.1, 2).\n"
   ]
  },
  {
   "cell_type": "code",
   "execution_count": 28,
   "id": "fb10b233",
   "metadata": {},
   "outputs": [
    {
     "data": {
      "text/html": [
       "<div class=\"dni-plaintext\">False</div>"
      ]
     },
     "execution_count": 28,
     "metadata": {},
     "output_type": "execute_result"
    }
   ],
   "source": [
    "inside(1,1,0.3,0.5,1.1,0.7)"
   ]
  },
  {
   "cell_type": "code",
   "execution_count": 29,
   "id": "7b8a9989",
   "metadata": {},
   "outputs": [
    {
     "data": {
      "text/html": [
       "<div class=\"dni-plaintext\">True</div>"
      ]
     },
     "execution_count": 29,
     "metadata": {},
     "output_type": "execute_result"
    }
   ],
   "source": [
    "inside(1,1,0.5,0.2,1.1,2)"
   ]
  }
 ],
 "metadata": {
  "kernelspec": {
   "display_name": ".NET (C#)",
   "language": "C#",
   "name": ".net-csharp"
  },
  "language_info": {
   "file_extension": ".cs",
   "mimetype": "text/x-csharp",
   "name": "C#",
   "pygments_lexer": "csharp",
   "version": "10.0"
  }
 },
 "nbformat": 4,
 "nbformat_minor": 5
}
